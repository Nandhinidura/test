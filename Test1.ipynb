{
  "nbformat": 4,
  "nbformat_minor": 0,
  "metadata": {
    "colab": {
      "name": "Test1.ipynb",
      "provenance": []
    },
    "kernelspec": {
      "name": "python3",
      "display_name": "Python 3"
    },
    "language_info": {
      "name": "python"
    }
  },
  "cells": [
    {
      "cell_type": "code",
      "execution_count": null,
      "metadata": {
        "id": "eG1VDf1iAI2S"
      },
      "outputs": [],
      "source": [
        "import pandas as pd\n",
        "import numpy as np\n",
        "import plotly.express as px\n",
        "import dash\n",
        "import dash_auth\n",
        "import dash_core_components as dcc\n",
        "import dash_html_components as html\n",
        "from dash.dependencies import Input, Output\n",
        "USERNAME_PASSWORD_PAIRS=[['guvi','guvi']]\n",
        "app=dash.Dash(__name__)\n",
        "auth= dash_auth.BasicAuth(app,USERNAME_PASSWORD_PAIRS)\n",
        "server=app.server\n",
        "df = pd.read_csv('https://raw.githubusercontent.com/srinathkr07/IPL-Data-Analysis/master/matches.csv')\n",
        "df.dropna()\n",
        "mappings={'Rising Pune Supergiant':'Rising Pune Supergiants','Delhi Capitals':'Delhi Daredevils'}\n",
        "df['team1']=df['team1'].replace(mappings)\n",
        "df['team2']=df['team2'].replace(mappings)\n",
        "df['winner']=df['winner'].replace(mappings)\n",
        "df['toss_winner']=df['toss_winner'].replace(mappings)\n",
        "df1 = df['winner'].value_counts()\n",
        "fig = px.bar(df1, x = 'winner', y = 'season',barmode=\"group\")\n",
        "app.layout = html.Div(children=[\n",
        "    html.H1(children='Best Team Based on Winning Count'),\n",
        "\n",
        "    html.Div(children='''\n",
        "        Dash: A web application framework for your data.\n",
        "    '''),\n",
        "\n",
        "    dcc.Graph(\n",
        "        id='example-graph',\n",
        "        figure=fig\n",
        "    )\n",
        "])\n",
        "if __name__ == '__main__':\n",
        "   app.run_server(debug=True)"
      ]
    }
  ]
}